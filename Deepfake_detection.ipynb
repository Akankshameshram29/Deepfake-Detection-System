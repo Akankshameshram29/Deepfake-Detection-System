{
  "cells": [
    {
      "cell_type": "code",
      "execution_count": 1,
      "id": "keCvSMBnCA35",
      "metadata": {
        "id": "keCvSMBnCA35"
      },
      "outputs": [],
      "source": [
        "import os\n",
        "import numpy as np\n",
        "import matplotlib.pyplot as plt\n",
        "import tensorflow as tf\n",
        "import random\n",
        "import glob\n",
        "from sklearn.model_selection import train_test_split\n",
        "from tensorflow.keras.preprocessing.image import ImageDataGenerator\n",
        "from tensorflow.keras.models import Sequential\n",
        "from tensorflow.keras.layers import Conv2D, MaxPooling2D, Flatten, Dense, Dropout\n",
        "from tensorflow.keras.optimizers import Adam\n",
        "from sklearn.metrics import classification_report, confusion_matrix"
      ]
    },
    {
      "cell_type": "code",
      "execution_count": 10,
      "id": "c0d12900",
      "metadata": {},
      "outputs": [
        {
          "name": "stdout",
          "output_type": "stream",
          "text": [
            "✅ All datasets merged into: C:\\Users\\akanksha meshram\\Downloads\\Deepfake\\merged_dataset\n"
          ]
        }
      ],
      "source": [
        "import os\n",
        "import shutil\n",
        "\n",
        "def copy_images(source_dirs, dest_dir, real_folders, fake_folders):\n",
        "    os.makedirs(os.path.join(dest_dir, \"real\"), exist_ok=True)\n",
        "    os.makedirs(os.path.join(dest_dir, \"fake\"), exist_ok=True)\n",
        "\n",
        "    def copy_from(source, label):\n",
        "        dest_label_dir = os.path.join(dest_dir, label)\n",
        "        if not os.path.exists(source):\n",
        "            print(f\"❌ Skipped missing folder: {source}\")\n",
        "            return\n",
        "        for img_name in os.listdir(source):\n",
        "            src_path = os.path.join(source, img_name)\n",
        "            if os.path.isfile(src_path):\n",
        "                new_name = f\"{os.path.basename(source)}_{img_name}\"\n",
        "                dst_path = os.path.join(dest_label_dir, new_name)\n",
        "                shutil.copy(src_path, dst_path)\n",
        "\n",
        "    # Copy all real and fake folders\n",
        "    for folder in real_folders:\n",
        "        copy_from(folder, \"real\")\n",
        "    for folder in fake_folders:\n",
        "        copy_from(folder, \"fake\")\n",
        "\n",
        "    print(\"✅ All datasets merged into:\", dest_dir)\n",
        "\n",
        "# Define your folders here\n",
        "real_folders = [\n",
        "    r\"C:\\Users\\akanksha meshram\\Downloads\\archive (6)\\1000_videos\\validation\\real\",\n",
        "    r\"C:\\Users\\akanksha meshram\\Downloads\\archive (6)\\1000_videos\\train\\real\",\n",
        "    r\"C:\\Users\\akanksha meshram\\Downloads\\archive (6)\\1000_videos\\test\\real\",\n",
        "    r\"C:\\Users\\akanksha meshram\\OneDrive\\real_and_fake_face\\training_real\"]\n",
        "\n",
        "fake_folders = [\n",
        "    r\"C:\\Users\\akanksha meshram\\Downloads\\archive (6)\\1000_videos\\validation\\fake\",\n",
        "    r\"C:\\Users\\akanksha meshram\\Downloads\\archive (6)\\1000_videos\\train\\fake\",\n",
        "    r\"C:\\Users\\akanksha meshram\\Downloads\\archive (6)\\1000_videos\\test\\fake\",\n",
        "    r\"C:\\Users\\akanksha meshram\\OneDrive\\real_and_fake_face\\training_fake\"]\n",
        "\n",
        "# Destination folder for merged dataset\n",
        "merged_dataset_path = r\"C:\\Users\\akanksha meshram\\Downloads\\Deepfake\\merged_dataset\"\n",
        "\n",
        "# Run the merge\n",
        "copy_images(real_folders + fake_folders, merged_dataset_path, real_folders, fake_folders)\n"
      ]
    },
    {
      "cell_type": "code",
      "execution_count": 11,
      "id": "dadf6d59",
      "metadata": {},
      "outputs": [
        {
          "name": "stdout",
          "output_type": "stream",
          "text": [
            "Number of real images: 9586\n",
            "Number of fake images: 9388\n"
          ]
        }
      ],
      "source": [
        "\n",
        "\n",
        "# Path to merged dataset\n",
        "merged_path = r\"C:\\Users\\akanksha meshram\\Downloads\\Deepfake\\merged_dataset\"\n",
        "real_path = os.path.join(merged_path, \"real\")\n",
        "fake_path = os.path.join(merged_path, \"fake\")\n",
        "\n",
        "real_count = len([f for f in os.listdir(real_path) if f.lower().endswith(('.png', '.jpg', '.jpeg'))])\n",
        "fake_count = len([f for f in os.listdir(fake_path) if f.lower().endswith(('.png', '.jpg', '.jpeg'))])\n",
        "print(f\"Number of real images: {real_count}\")\n",
        "print(f\"Number of fake images: {fake_count}\")"
      ]
    },
    {
      "cell_type": "code",
      "execution_count": 6,
      "id": "18ec850e",
      "metadata": {},
      "outputs": [
        {
          "name": "stdout",
          "output_type": "stream",
          "text": [
            "5000 images deleted successfully.\n"
          ]
        }
      ],
      "source": [
        "import os\n",
        "\n",
        "# Folder containing your images\n",
        "folder_path = r\"C:\\Users\\akanksha meshram\\OneDrive\\Documents\\Desktop\\dataset\\merged_dataset\\real\"\n",
        "\n",
        "# Get list of image files (sorted by name)\n",
        "images = sorted(os.listdir(folder_path))\n",
        "\n",
        "# Choose how many to delete\n",
        "num_to_delete = 5000\n",
        "\n",
        "# Loop and delete\n",
        "for img in images[:num_to_delete]:\n",
        "    file_path = os.path.join(folder_path, img)\n",
        "    if os.path.isfile(file_path):\n",
        "        os.remove(file_path)\n",
        "\n",
        "print(f\"{num_to_delete} images deleted successfully.\")\n"
      ]
    },
    {
      "cell_type": "code",
      "execution_count": 12,
      "id": "5e1c434a",
      "metadata": {},
      "outputs": [
        {
          "name": "stdout",
          "output_type": "stream",
          "text": [
            "✅ Created 500 filtered real images in: C:\\Users\\akanksha meshram\\Downloads\\Deepfake\\merged_dataset\\real_filtered\n"
          ]
        }
      ],
      "source": [
        "import os\n",
        "import cv2\n",
        "import random\n",
        "\n",
        "input_real_folder = r\"C:\\Users\\akanksha meshram\\Downloads\\Deepfake\\merged_dataset\\real\"\n",
        "output_filtered_real = r\"C:\\Users\\akanksha meshram\\Downloads\\Deepfake\\merged_dataset\\real_filtered\"\n",
        "os.makedirs(output_filtered_real, exist_ok=True)\n",
        "\n",
        "# Choose N random images to apply filters to\n",
        "num_to_filter = 500 # adjust as needed\n",
        "real_images = [f for f in os.listdir(input_real_folder) if f.endswith(('.jpg', '.png'))]\n",
        "selected = random.sample(real_images, min(num_to_filter, len(real_images)))\n",
        "\n",
        "\n",
        "for i, filename in enumerate(selected):\n",
        "    img_path = os.path.join(input_real_folder, filename)\n",
        "    img = cv2.imread(img_path)\n",
        "\n",
        "    # Apply pseudo-filter effects (feel free to modify)\n",
        "    filtered = cv2.bilateralFilter(img, 9, 75, 75)  # smoothing\n",
        "    filtered = cv2.convertScaleAbs(filtered, alpha=1.2, beta=20)  # brightness boost\n",
        "\n",
        "    save_name = f\"filtered_{i}_{filename}\"\n",
        "    save_path = os.path.join(output_filtered_real, save_name)\n",
        "    cv2.imwrite(save_path, filtered)\n",
        "\n",
        "print(f\"✅ Created {len(selected)} filtered real images in:\", output_filtered_real)\n"
      ]
    },
    {
      "cell_type": "code",
      "execution_count": 13,
      "id": "5651d736",
      "metadata": {},
      "outputs": [
        {
          "name": "stdout",
          "output_type": "stream",
          "text": [
            "✅ Moved filtered images back to: C:\\Users\\akanksha meshram\\Downloads\\Deepfake\\merged_dataset\\real\n"
          ]
        }
      ],
      "source": [
        "import shutil\n",
        "\n",
        "filtered_images = os.listdir(output_filtered_real)\n",
        "for file in filtered_images:\n",
        "    shutil.move(\n",
        "        os.path.join(output_filtered_real, file),\n",
        "        os.path.join(input_real_folder, file)\n",
        "    )\n",
        "print(f\"✅ Moved filtered images back to: {input_real_folder}\")"
      ]
    },
    {
      "cell_type": "code",
      "execution_count": 14,
      "id": "f96abf88",
      "metadata": {},
      "outputs": [
        {
          "name": "stdout",
          "output_type": "stream",
          "text": [
            "✅ Found 10086 real images\n",
            "✅ Found 9388 fake images\n"
          ]
        }
      ],
      "source": [
        "import os\n",
        "import glob\n",
        "\n",
        "# Correct paths — point to actual folders\n",
        "real_path = r\"C:\\Users\\akanksha meshram\\Downloads\\Deepfake\\merged_dataset\\real\"\n",
        "fake_path = r\"C:\\Users\\akanksha meshram\\Downloads\\Deepfake\\merged_dataset\\fake\"\n",
        "\n",
        "# Match all image types\n",
        "real_images = glob.glob(os.path.join(real_path, \"*.jpg\")) + \\\n",
        "              glob.glob(os.path.join(real_path, \"*.jpeg\")) + \\\n",
        "              glob.glob(os.path.join(real_path, \"*.png\"))\n",
        "\n",
        "fake_images = glob.glob(os.path.join(fake_path, \"*.jpg\")) + \\\n",
        "              glob.glob(os.path.join(fake_path, \"*.jpeg\")) + \\\n",
        "              glob.glob(os.path.join(fake_path, \"*.png\"))\n",
        "\n",
        "\n",
        "\n",
        "print(f\"✅ Found {len(real_images)} real images\")\n",
        "print(f\"✅ Found {len(fake_images)} fake images\")\n"
      ]
    },
    {
      "cell_type": "code",
      "execution_count": 15,
      "id": "9c8fa6db",
      "metadata": {},
      "outputs": [
        {
          "name": "stdout",
          "output_type": "stream",
          "text": [
            "✅ Dataset is balanced.\n"
          ]
        }
      ],
      "source": [
        "if abs(len(real_images) - len(fake_images)) / max(len(real_images), len(fake_images)) < 0.1:\n",
        "    print(\"✅ Dataset is balanced.\")\n",
        "else:\n",
        "    print(\"⚠️ Dataset is imbalanced. Consider sampling or adding data.\")"
      ]
    },
    {
      "cell_type": "code",
      "execution_count": 16,
      "id": "acf40451",
      "metadata": {},
      "outputs": [],
      "source": [
        "import cv2\n",
        "IMG_SIZE = 128\n",
        "X = []\n",
        "\n",
        "# Load and preprocess images\n",
        "for img_path in real_images + fake_images:\n",
        "    img = cv2.imread(img_path)\n",
        "    img = cv2.resize(img, (IMG_SIZE, IMG_SIZE))\n",
        "    img = cv2.cvtColor(img, cv2.COLOR_BGR2RGB)\n",
        "    img = img / 255.0  # Normalize\n",
        "    X.append(img)\n",
        "\n",
        "X = np.array(X, dtype='float32')\n",
        "y = np.array([0]*len(real_images) + [1]*len(fake_images))  # 0 = real, 1 = fake"
      ]
    },
    {
      "cell_type": "code",
      "execution_count": 7,
      "id": "b407850d",
      "metadata": {},
      "outputs": [],
      "source": [
        "# Split the dataset\n",
        "X_train, X_test, y_train, y_test = train_test_split(\n",
        "    X, y, test_size=0.3, random_state=42, stratify=y\n",
        ")\n"
      ]
    },
    {
      "cell_type": "code",
      "execution_count": 8,
      "id": "1f60778a",
      "metadata": {},
      "outputs": [],
      "source": [
        "from tensorflow.keras.applications import MobileNetV2\n",
        "from tensorflow.keras.layers import GlobalAveragePooling2D, Dense, Dropout\n",
        "from tensorflow.keras.models import Model\n",
        "from tensorflow.keras.optimizers import Adam\n",
        "\n",
        "base_model =    MobileNetV2(weights='imagenet', include_top=False, input_shape=(128, 128, 3))\n",
        "for layer in base_model.layers:\n",
        "    layer.trainable = False\n",
        "N = 20\n",
        "for layer in base_model.layers[-N:]:\n",
        "    layer.trainable = True\n",
        "\n",
        "\n",
        "x = base_model.output\n",
        "x = GlobalAveragePooling2D()(x)\n",
        "x = Dense(64, activation='relu')(x)\n",
        "x = Dropout(0.5)(x)\n",
        "output = Dense(1, activation='sigmoid')(x)\n",
        "\n",
        "model = Model(inputs=base_model.input, outputs=output)\n",
        "model.compile(optimizer=Adam(learning_rate=1e-5), loss='binary_crossentropy', metrics=['accuracy'])\n"
      ]
    },
    {
      "cell_type": "code",
      "execution_count": 18,
      "id": "720e3ca3",
      "metadata": {},
      "outputs": [
        {
          "name": "stdout",
          "output_type": "stream",
          "text": [
            "Found 15580 images belonging to 2 classes.\n",
            "Found 3894 images belonging to 2 classes.\n"
          ]
        }
      ],
      "source": [
        "from tensorflow.keras.preprocessing.image import ImageDataGenerator\n",
        "\n",
        "IMG_SIZE = 128\n",
        "BATCH_SIZE = 32\n",
        "\n",
        "# Data augmentation\n",
        "datagen = ImageDataGenerator(\n",
        "   rescale=1./255,\n",
        "    rotation_range=20,\n",
        "    shear_range=0.2,\n",
        "    zoom_range=0.2,\n",
        "    horizontal_flip=True,\n",
        "    width_shift_range=0.1,\n",
        "    height_shift_range=0.1,\n",
        "    brightness_range=[0.8, 1.2],\n",
        "    validation_split=0.2\n",
        ")\n",
        "\n",
        "# Training data\n",
        "train_data = datagen.flow_from_directory(\n",
        "    merged_dataset_path,\n",
        "    target_size=(IMG_SIZE, IMG_SIZE),\n",
        "    batch_size=BATCH_SIZE,\n",
        "    class_mode='binary',\n",
        "    subset='training'\n",
        ")\n",
        "\n",
        "# Validation data\n",
        "val_data = datagen.flow_from_directory(\n",
        "   merged_dataset_path,\n",
        "    target_size=(IMG_SIZE, IMG_SIZE),\n",
        "    batch_size=BATCH_SIZE,\n",
        "    class_mode='binary',\n",
        "    subset='validation'\n",
        ")\n"
      ]
    },
    {
      "cell_type": "code",
      "execution_count": 19,
      "id": "b100a637",
      "metadata": {},
      "outputs": [
        {
          "name": "stderr",
          "output_type": "stream",
          "text": [
            "c:\\Users\\akanksha meshram\\anaconda3\\envs\\tf_env\\lib\\site-packages\\keras\\src\\trainers\\data_adapters\\py_dataset_adapter.py:121: UserWarning: Your `PyDataset` class should call `super().__init__(**kwargs)` in its constructor. `**kwargs` can include `workers`, `use_multiprocessing`, `max_queue_size`. Do not pass these arguments to `fit()`, as they will be ignored.\n",
            "  self._warn_if_super_not_called()\n"
          ]
        },
        {
          "name": "stdout",
          "output_type": "stream",
          "text": [
            "Epoch 1/30\n",
            "\u001b[1m487/487\u001b[0m \u001b[32m━━━━━━━━━━━━━━━━━━━━\u001b[0m\u001b[37m\u001b[0m \u001b[1m330s\u001b[0m 660ms/step - accuracy: 0.5352 - loss: 0.7627 - val_accuracy: 0.6035 - val_loss: 0.6856\n",
            "Epoch 2/30\n",
            "\u001b[1m487/487\u001b[0m \u001b[32m━━━━━━━━━━━━━━━━━━━━\u001b[0m\u001b[37m\u001b[0m \u001b[1m303s\u001b[0m 622ms/step - accuracy: 0.6379 - loss: 0.6420 - val_accuracy: 0.6366 - val_loss: 0.6511\n",
            "Epoch 3/30\n",
            "\u001b[1m487/487\u001b[0m \u001b[32m━━━━━━━━━━━━━━━━━━━━\u001b[0m\u001b[37m\u001b[0m \u001b[1m300s\u001b[0m 615ms/step - accuracy: 0.6798 - loss: 0.5936 - val_accuracy: 0.6561 - val_loss: 0.6439\n",
            "Epoch 4/30\n",
            "\u001b[1m487/487\u001b[0m \u001b[32m━━━━━━━━━━━━━━━━━━━━\u001b[0m\u001b[37m\u001b[0m \u001b[1m301s\u001b[0m 618ms/step - accuracy: 0.7138 - loss: 0.5454 - val_accuracy: 0.6808 - val_loss: 0.6334\n",
            "Epoch 5/30\n",
            "\u001b[1m487/487\u001b[0m \u001b[32m━━━━━━━━━━━━━━━━━━━━\u001b[0m\u001b[37m\u001b[0m \u001b[1m301s\u001b[0m 618ms/step - accuracy: 0.7327 - loss: 0.5216 - val_accuracy: 0.6839 - val_loss: 0.6315\n",
            "Epoch 6/30\n",
            "\u001b[1m487/487\u001b[0m \u001b[32m━━━━━━━━━━━━━━━━━━━━\u001b[0m\u001b[37m\u001b[0m \u001b[1m297s\u001b[0m 611ms/step - accuracy: 0.7467 - loss: 0.4952 - val_accuracy: 0.6985 - val_loss: 0.6010\n",
            "Epoch 7/30\n",
            "\u001b[1m487/487\u001b[0m \u001b[32m━━━━━━━━━━━━━━━━━━━━\u001b[0m\u001b[37m\u001b[0m \u001b[1m298s\u001b[0m 612ms/step - accuracy: 0.7657 - loss: 0.4783 - val_accuracy: 0.7039 - val_loss: 0.5876\n",
            "Epoch 8/30\n",
            "\u001b[1m487/487\u001b[0m \u001b[32m━━━━━━━━━━━━━━━━━━━━\u001b[0m\u001b[37m\u001b[0m \u001b[1m296s\u001b[0m 607ms/step - accuracy: 0.7713 - loss: 0.4600 - val_accuracy: 0.6975 - val_loss: 0.5913\n",
            "Epoch 9/30\n",
            "\u001b[1m487/487\u001b[0m \u001b[32m━━━━━━━━━━━━━━━━━━━━\u001b[0m\u001b[37m\u001b[0m \u001b[1m298s\u001b[0m 612ms/step - accuracy: 0.7858 - loss: 0.4498 - val_accuracy: 0.7167 - val_loss: 0.5761\n",
            "Epoch 10/30\n",
            "\u001b[1m487/487\u001b[0m \u001b[32m━━━━━━━━━━━━━━━━━━━━\u001b[0m\u001b[37m\u001b[0m \u001b[1m297s\u001b[0m 609ms/step - accuracy: 0.7952 - loss: 0.4260 - val_accuracy: 0.7216 - val_loss: 0.5805\n",
            "Epoch 11/30\n",
            "\u001b[1m487/487\u001b[0m \u001b[32m━━━━━━━━━━━━━━━━━━━━\u001b[0m\u001b[37m\u001b[0m \u001b[1m302s\u001b[0m 620ms/step - accuracy: 0.8077 - loss: 0.4104 - val_accuracy: 0.7183 - val_loss: 0.5782\n",
            "Epoch 12/30\n",
            "\u001b[1m487/487\u001b[0m \u001b[32m━━━━━━━━━━━━━━━━━━━━\u001b[0m\u001b[37m\u001b[0m \u001b[1m297s\u001b[0m 611ms/step - accuracy: 0.8058 - loss: 0.4130 - val_accuracy: 0.7131 - val_loss: 0.5848\n",
            "Epoch 13/30\n",
            "\u001b[1m487/487\u001b[0m \u001b[32m━━━━━━━━━━━━━━━━━━━━\u001b[0m\u001b[37m\u001b[0m \u001b[1m298s\u001b[0m 612ms/step - accuracy: 0.8043 - loss: 0.4025 - val_accuracy: 0.7216 - val_loss: 0.5901\n",
            "Epoch 14/30\n",
            "\u001b[1m487/487\u001b[0m \u001b[32m━━━━━━━━━━━━━━━━━━━━\u001b[0m\u001b[37m\u001b[0m \u001b[1m297s\u001b[0m 609ms/step - accuracy: 0.8200 - loss: 0.3904 - val_accuracy: 0.7262 - val_loss: 0.5887\n",
            "Epoch 15/30\n",
            "\u001b[1m487/487\u001b[0m \u001b[32m━━━━━━━━━━━━━━━━━━━━\u001b[0m\u001b[37m\u001b[0m \u001b[1m296s\u001b[0m 608ms/step - accuracy: 0.8211 - loss: 0.3821 - val_accuracy: 0.7221 - val_loss: 0.6060\n",
            "Epoch 16/30\n",
            "\u001b[1m487/487\u001b[0m \u001b[32m━━━━━━━━━━━━━━━━━━━━\u001b[0m\u001b[37m\u001b[0m \u001b[1m299s\u001b[0m 614ms/step - accuracy: 0.8245 - loss: 0.3802 - val_accuracy: 0.7275 - val_loss: 0.5829\n",
            "Epoch 17/30\n",
            "\u001b[1m487/487\u001b[0m \u001b[32m━━━━━━━━━━━━━━━━━━━━\u001b[0m\u001b[37m\u001b[0m \u001b[1m297s\u001b[0m 610ms/step - accuracy: 0.8315 - loss: 0.3585 - val_accuracy: 0.7229 - val_loss: 0.5889\n",
            "Epoch 18/30\n",
            "\u001b[1m487/487\u001b[0m \u001b[32m━━━━━━━━━━━━━━━━━━━━\u001b[0m\u001b[37m\u001b[0m \u001b[1m295s\u001b[0m 606ms/step - accuracy: 0.8396 - loss: 0.3489 - val_accuracy: 0.7304 - val_loss: 0.5875\n",
            "Epoch 19/30\n",
            "\u001b[1m487/487\u001b[0m \u001b[32m━━━━━━━━━━━━━━━━━━━━\u001b[0m\u001b[37m\u001b[0m \u001b[1m321s\u001b[0m 659ms/step - accuracy: 0.8391 - loss: 0.3510 - val_accuracy: 0.7345 - val_loss: 0.5819\n",
            "Epoch 20/30\n",
            "\u001b[1m487/487\u001b[0m \u001b[32m━━━━━━━━━━━━━━━━━━━━\u001b[0m\u001b[37m\u001b[0m \u001b[1m368s\u001b[0m 756ms/step - accuracy: 0.8430 - loss: 0.3365 - val_accuracy: 0.7304 - val_loss: 0.5904\n",
            "Epoch 21/30\n",
            "\u001b[1m487/487\u001b[0m \u001b[32m━━━━━━━━━━━━━━━━━━━━\u001b[0m\u001b[37m\u001b[0m \u001b[1m335s\u001b[0m 687ms/step - accuracy: 0.8462 - loss: 0.3354 - val_accuracy: 0.7370 - val_loss: 0.5791\n",
            "Epoch 22/30\n",
            "\u001b[1m487/487\u001b[0m \u001b[32m━━━━━━━━━━━━━━━━━━━━\u001b[0m\u001b[37m\u001b[0m \u001b[1m298s\u001b[0m 612ms/step - accuracy: 0.8405 - loss: 0.3437 - val_accuracy: 0.7357 - val_loss: 0.5912\n",
            "Epoch 23/30\n",
            "\u001b[1m487/487\u001b[0m \u001b[32m━━━━━━━━━━━━━━━━━━━━\u001b[0m\u001b[37m\u001b[0m \u001b[1m291s\u001b[0m 598ms/step - accuracy: 0.8506 - loss: 0.3237 - val_accuracy: 0.7342 - val_loss: 0.5884\n",
            "Epoch 24/30\n",
            "\u001b[1m487/487\u001b[0m \u001b[32m━━━━━━━━━━━━━━━━━━━━\u001b[0m\u001b[37m\u001b[0m \u001b[1m320s\u001b[0m 656ms/step - accuracy: 0.8556 - loss: 0.3174 - val_accuracy: 0.7514 - val_loss: 0.5785\n",
            "Epoch 25/30\n",
            "\u001b[1m487/487\u001b[0m \u001b[32m━━━━━━━━━━━━━━━━━━━━\u001b[0m\u001b[37m\u001b[0m \u001b[1m316s\u001b[0m 649ms/step - accuracy: 0.8603 - loss: 0.3079 - val_accuracy: 0.7447 - val_loss: 0.5922\n",
            "Epoch 26/30\n",
            "\u001b[1m487/487\u001b[0m \u001b[32m━━━━━━━━━━━━━━━━━━━━\u001b[0m\u001b[37m\u001b[0m \u001b[1m312s\u001b[0m 641ms/step - accuracy: 0.8573 - loss: 0.3147 - val_accuracy: 0.7424 - val_loss: 0.6049\n",
            "Epoch 27/30\n",
            "\u001b[1m487/487\u001b[0m \u001b[32m━━━━━━━━━━━━━━━━━━━━\u001b[0m\u001b[37m\u001b[0m \u001b[1m307s\u001b[0m 630ms/step - accuracy: 0.8653 - loss: 0.3045 - val_accuracy: 0.7283 - val_loss: 0.6269\n",
            "Epoch 28/30\n",
            "\u001b[1m487/487\u001b[0m \u001b[32m━━━━━━━━━━━━━━━━━━━━\u001b[0m\u001b[37m\u001b[0m \u001b[1m309s\u001b[0m 634ms/step - accuracy: 0.8640 - loss: 0.3036 - val_accuracy: 0.7381 - val_loss: 0.6097\n",
            "Epoch 29/30\n",
            "\u001b[1m487/487\u001b[0m \u001b[32m━━━━━━━━━━━━━━━━━━━━\u001b[0m\u001b[37m\u001b[0m \u001b[1m349s\u001b[0m 717ms/step - accuracy: 0.8701 - loss: 0.2974 - val_accuracy: 0.7535 - val_loss: 0.5888\n",
            "Epoch 30/30\n",
            "\u001b[1m487/487\u001b[0m \u001b[32m━━━━━━━━━━━━━━━━━━━━\u001b[0m\u001b[37m\u001b[0m \u001b[1m329s\u001b[0m 676ms/step - accuracy: 0.8709 - loss: 0.2903 - val_accuracy: 0.7512 - val_loss: 0.5811\n"
          ]
        },
        {
          "data": {
            "text/plain": [
              "<keras.src.callbacks.history.History at 0x27476169000>"
            ]
          },
          "execution_count": 19,
          "metadata": {},
          "output_type": "execute_result"
        }
      ],
      "source": [
        "from tensorflow.keras.callbacks import EarlyStopping, ModelCheckpoint\n",
        "\n",
        "callbacks = [\n",
        "    EarlyStopping(monitor='val_loss', patience=3, restore_best_weights=True),\n",
        "    ModelCheckpoint('best_model_efficient.h5', save_best_only=True)\n",
        "]\n",
        "\n",
        "model.fit(\n",
        "    train_data,\n",
        "    validation_data=val_data,\n",
        "    epochs=30\n",
        ")\n"
      ]
    },
    {
      "cell_type": "code",
      "execution_count": 21,
      "id": "5037bb1d",
      "metadata": {},
      "outputs": [
        {
          "name": "stdout",
          "output_type": "stream",
          "text": [
            "Epoch 1/30\n",
            "\u001b[1m487/487\u001b[0m \u001b[32m━━━━━━━━━━━━━━━━━━━━\u001b[0m\u001b[37m\u001b[0m \u001b[1m319s\u001b[0m 656ms/step - accuracy: 0.8668 - loss: 0.2933 - val_accuracy: 0.7501 - val_loss: 0.5877\n",
            "Epoch 2/30\n",
            "\u001b[1m487/487\u001b[0m \u001b[32m━━━━━━━━━━━━━━━━━━━━\u001b[0m\u001b[37m\u001b[0m \u001b[1m300s\u001b[0m 616ms/step - accuracy: 0.8667 - loss: 0.3060 - val_accuracy: 0.7406 - val_loss: 0.6275\n",
            "Epoch 3/30\n",
            "\u001b[1m487/487\u001b[0m \u001b[32m━━━━━━━━━━━━━━━━━━━━\u001b[0m\u001b[37m\u001b[0m \u001b[1m293s\u001b[0m 601ms/step - accuracy: 0.8654 - loss: 0.2956 - val_accuracy: 0.7419 - val_loss: 0.6150\n",
            "Epoch 4/30\n",
            "\u001b[1m487/487\u001b[0m \u001b[32m━━━━━━━━━━━━━━━━━━━━\u001b[0m\u001b[37m\u001b[0m \u001b[1m293s\u001b[0m 602ms/step - accuracy: 0.8749 - loss: 0.2862 - val_accuracy: 0.7627 - val_loss: 0.5893\n",
            "Epoch 5/30\n",
            "\u001b[1m487/487\u001b[0m \u001b[32m━━━━━━━━━━━━━━━━━━━━\u001b[0m\u001b[37m\u001b[0m \u001b[1m295s\u001b[0m 606ms/step - accuracy: 0.8818 - loss: 0.2745 - val_accuracy: 0.7571 - val_loss: 0.6105\n",
            "Epoch 6/30\n",
            "\u001b[1m487/487\u001b[0m \u001b[32m━━━━━━━━━━━━━━━━━━━━\u001b[0m\u001b[37m\u001b[0m \u001b[1m292s\u001b[0m 600ms/step - accuracy: 0.8743 - loss: 0.2855 - val_accuracy: 0.7596 - val_loss: 0.6055\n",
            "Epoch 7/30\n",
            "\u001b[1m487/487\u001b[0m \u001b[32m━━━━━━━━━━━━━━━━━━━━\u001b[0m\u001b[37m\u001b[0m \u001b[1m295s\u001b[0m 606ms/step - accuracy: 0.8789 - loss: 0.2738 - val_accuracy: 0.7463 - val_loss: 0.6228\n",
            "Epoch 8/30\n",
            "\u001b[1m487/487\u001b[0m \u001b[32m━━━━━━━━━━━━━━━━━━━━\u001b[0m\u001b[37m\u001b[0m \u001b[1m293s\u001b[0m 603ms/step - accuracy: 0.8772 - loss: 0.2642 - val_accuracy: 0.7452 - val_loss: 0.6380\n",
            "Epoch 9/30\n",
            "\u001b[1m487/487\u001b[0m \u001b[32m━━━━━━━━━━━━━━━━━━━━\u001b[0m\u001b[37m\u001b[0m \u001b[1m296s\u001b[0m 607ms/step - accuracy: 0.8730 - loss: 0.2786 - val_accuracy: 0.7614 - val_loss: 0.5797\n",
            "Epoch 10/30\n",
            "\u001b[1m487/487\u001b[0m \u001b[32m━━━━━━━━━━━━━━━━━━━━\u001b[0m\u001b[37m\u001b[0m \u001b[1m299s\u001b[0m 614ms/step - accuracy: 0.8841 - loss: 0.2584 - val_accuracy: 0.7494 - val_loss: 0.6228\n",
            "Epoch 11/30\n",
            "\u001b[1m487/487\u001b[0m \u001b[32m━━━━━━━━━━━━━━━━━━━━\u001b[0m\u001b[37m\u001b[0m \u001b[1m299s\u001b[0m 615ms/step - accuracy: 0.8847 - loss: 0.2617 - val_accuracy: 0.7563 - val_loss: 0.6100\n",
            "Epoch 12/30\n",
            "\u001b[1m487/487\u001b[0m \u001b[32m━━━━━━━━━━━━━━━━━━━━\u001b[0m\u001b[37m\u001b[0m \u001b[1m296s\u001b[0m 608ms/step - accuracy: 0.8874 - loss: 0.2548 - val_accuracy: 0.7388 - val_loss: 0.6509\n",
            "Epoch 13/30\n",
            "\u001b[1m487/487\u001b[0m \u001b[32m━━━━━━━━━━━━━━━━━━━━\u001b[0m\u001b[37m\u001b[0m \u001b[1m295s\u001b[0m 607ms/step - accuracy: 0.8891 - loss: 0.2512 - val_accuracy: 0.7509 - val_loss: 0.6200\n",
            "Epoch 14/30\n",
            "\u001b[1m487/487\u001b[0m \u001b[32m━━━━━━━━━━━━━━━━━━━━\u001b[0m\u001b[37m\u001b[0m \u001b[1m292s\u001b[0m 600ms/step - accuracy: 0.8916 - loss: 0.2506 - val_accuracy: 0.7545 - val_loss: 0.6307\n",
            "Epoch 15/30\n",
            "\u001b[1m487/487\u001b[0m \u001b[32m━━━━━━━━━━━━━━━━━━━━\u001b[0m\u001b[37m\u001b[0m \u001b[1m299s\u001b[0m 613ms/step - accuracy: 0.8917 - loss: 0.2511 - val_accuracy: 0.7440 - val_loss: 0.6785\n",
            "Epoch 16/30\n",
            "\u001b[1m487/487\u001b[0m \u001b[32m━━━━━━━━━━━━━━━━━━━━\u001b[0m\u001b[37m\u001b[0m \u001b[1m296s\u001b[0m 608ms/step - accuracy: 0.8911 - loss: 0.2499 - val_accuracy: 0.7470 - val_loss: 0.6497\n",
            "Epoch 17/30\n",
            "\u001b[1m487/487\u001b[0m \u001b[32m━━━━━━━━━━━━━━━━━━━━\u001b[0m\u001b[37m\u001b[0m \u001b[1m290s\u001b[0m 595ms/step - accuracy: 0.8902 - loss: 0.2433 - val_accuracy: 0.7519 - val_loss: 0.6462\n",
            "Epoch 18/30\n",
            "\u001b[1m487/487\u001b[0m \u001b[32m━━━━━━━━━━━━━━━━━━━━\u001b[0m\u001b[37m\u001b[0m \u001b[1m290s\u001b[0m 596ms/step - accuracy: 0.8986 - loss: 0.2384 - val_accuracy: 0.7599 - val_loss: 0.6099\n",
            "Epoch 19/30\n",
            "\u001b[1m487/487\u001b[0m \u001b[32m━━━━━━━━━━━━━━━━━━━━\u001b[0m\u001b[37m\u001b[0m \u001b[1m290s\u001b[0m 595ms/step - accuracy: 0.8954 - loss: 0.2408 - val_accuracy: 0.7565 - val_loss: 0.6432\n",
            "Epoch 20/30\n",
            "\u001b[1m487/487\u001b[0m \u001b[32m━━━━━━━━━━━━━━━━━━━━\u001b[0m\u001b[37m\u001b[0m \u001b[1m289s\u001b[0m 594ms/step - accuracy: 0.8980 - loss: 0.2372 - val_accuracy: 0.7625 - val_loss: 0.6320\n",
            "Epoch 21/30\n",
            "\u001b[1m487/487\u001b[0m \u001b[32m━━━━━━━━━━━━━━━━━━━━\u001b[0m\u001b[37m\u001b[0m \u001b[1m288s\u001b[0m 591ms/step - accuracy: 0.8997 - loss: 0.2348 - val_accuracy: 0.7530 - val_loss: 0.6683\n",
            "Epoch 22/30\n",
            "\u001b[1m487/487\u001b[0m \u001b[32m━━━━━━━━━━━━━━━━━━━━\u001b[0m\u001b[37m\u001b[0m \u001b[1m288s\u001b[0m 592ms/step - accuracy: 0.8963 - loss: 0.2309 - val_accuracy: 0.7548 - val_loss: 0.6776\n",
            "Epoch 23/30\n",
            "\u001b[1m487/487\u001b[0m \u001b[32m━━━━━━━━━━━━━━━━━━━━\u001b[0m\u001b[37m\u001b[0m \u001b[1m290s\u001b[0m 596ms/step - accuracy: 0.9046 - loss: 0.2234 - val_accuracy: 0.7560 - val_loss: 0.6361\n",
            "Epoch 24/30\n",
            "\u001b[1m487/487\u001b[0m \u001b[32m━━━━━━━━━━━━━━━━━━━━\u001b[0m\u001b[37m\u001b[0m \u001b[1m288s\u001b[0m 592ms/step - accuracy: 0.9012 - loss: 0.2269 - val_accuracy: 0.7535 - val_loss: 0.6709\n",
            "Epoch 25/30\n",
            "\u001b[1m487/487\u001b[0m \u001b[32m━━━━━━━━━━━━━━━━━━━━\u001b[0m\u001b[37m\u001b[0m \u001b[1m301s\u001b[0m 619ms/step - accuracy: 0.9009 - loss: 0.2290 - val_accuracy: 0.7540 - val_loss: 0.6791\n",
            "Epoch 26/30\n",
            "\u001b[1m487/487\u001b[0m \u001b[32m━━━━━━━━━━━━━━━━━━━━\u001b[0m\u001b[37m\u001b[0m \u001b[1m301s\u001b[0m 617ms/step - accuracy: 0.9021 - loss: 0.2189 - val_accuracy: 0.7578 - val_loss: 0.6496\n",
            "Epoch 27/30\n",
            "\u001b[1m487/487\u001b[0m \u001b[32m━━━━━━━━━━━━━━━━━━━━\u001b[0m\u001b[37m\u001b[0m \u001b[1m299s\u001b[0m 614ms/step - accuracy: 0.9048 - loss: 0.2207 - val_accuracy: 0.7655 - val_loss: 0.6359\n",
            "Epoch 28/30\n",
            "\u001b[1m487/487\u001b[0m \u001b[32m━━━━━━━━━━━━━━━━━━━━\u001b[0m\u001b[37m\u001b[0m \u001b[1m299s\u001b[0m 615ms/step - accuracy: 0.9082 - loss: 0.2120 - val_accuracy: 0.7640 - val_loss: 0.6577\n",
            "Epoch 29/30\n",
            "\u001b[1m487/487\u001b[0m \u001b[32m━━━━━━━━━━━━━━━━━━━━\u001b[0m\u001b[37m\u001b[0m \u001b[1m300s\u001b[0m 616ms/step - accuracy: 0.9082 - loss: 0.2111 - val_accuracy: 0.7583 - val_loss: 0.6964\n",
            "Epoch 30/30\n",
            "\u001b[1m487/487\u001b[0m \u001b[32m━━━━━━━━━━━━━━━━━━━━\u001b[0m\u001b[37m\u001b[0m \u001b[1m300s\u001b[0m 616ms/step - accuracy: 0.9068 - loss: 0.2138 - val_accuracy: 0.7630 - val_loss: 0.6845\n"
          ]
        }
      ],
      "source": [
        "history = model.fit(\n",
        "    train_data,\n",
        "    validation_data=val_data,\n",
        "    epochs=30\n",
        "    )\n",
        "\n"
      ]
    },
    {
      "cell_type": "code",
      "execution_count": 22,
      "id": "a136da13",
      "metadata": {},
      "outputs": [
        {
          "data": {
            "image/png": "[encoded data removed]",
            "text/plain": [
              "<Figure size 640x480 with 1 Axes>"
            ]
          },
          "metadata": {},
          "output_type": "display_data"
        },
        {
          "data": {
            "image/png": "[encoded data removed]",
            "text/plain": [
              "<Figure size 640x480 with 1 Axes>"
            ]
          },
          "metadata": {},
          "output_type": "display_data"
        }
      ],
      "source": [
        "import matplotlib.pyplot as plt\n",
        "\n",
        "# Accuracy\n",
        "plt.plot(history.history['accuracy'], label='Train Accuracy')\n",
        "plt.plot(history.history['val_accuracy'], label='Val Accuracy')\n",
        "plt.title('Model Accuracy')\n",
        "plt.xlabel('Epoch')\n",
        "plt.ylabel('Accuracy')\n",
        "plt.legend()\n",
        "plt.grid()\n",
        "plt.show()\n",
        "\n",
        "# Loss\n",
        "plt.plot(history.history['loss'], label='Train Loss')\n",
        "plt.plot(history.history['val_loss'], label='Val Loss')\n",
        "plt.title('Model Loss')\n",
        "plt.xlabel('Epoch')\n",
        "plt.ylabel('Loss')\n",
        "plt.legend()\n",
        "plt.grid()\n",
        "plt.show()\n"
      ]
    },
    {
      "cell_type": "code",
      "execution_count": 23,
      "id": "20d78062",
      "metadata": {},
      "outputs": [
        {
          "name": "stderr",
          "output_type": "stream",
          "text": [
            "WARNING:absl:You are saving your model as an HDF5 file via `model.save()` or `keras.saving.save_model(model)`. This file format is considered legacy. We recommend using instead the native Keras format, e.g. `model.save('my_model.keras')` or `keras.saving.save_model(model, 'my_model.keras')`. \n"
          ]
        }
      ],
      "source": [
        "model.save(\"my_deepfake_detector.h5\")"
      ]
    },
    {
      "cell_type": "code",
      "execution_count": 14,
      "id": "003fd456",
      "metadata": {},
      "outputs": [
        {
          "name": "stderr",
          "output_type": "stream",
          "text": [
            "WARNING:absl:Compiled the loaded model, but the compiled metrics have yet to be built. `model.compile_metrics` will be empty until you train or evaluate the model.\n"
          ]
        },
        {
          "name": "stdout",
          "output_type": "stream",
          "text": [
            "0 images processed.\n",
            "Predicted 0 out of 0 images correctly.\n"
          ]
        },
        {
          "ename": "ZeroDivisionError",
          "evalue": "division by zero",
          "output_type": "error",
          "traceback": [
            "\u001b[1;31m---------------------------------------------------------------------------\u001b[0m",
            "\u001b[1;31mZeroDivisionError\u001b[0m                         Traceback (most recent call last)",
            "Cell \u001b[1;32mIn[14], line 32\u001b[0m\n\u001b[0;32m     30\u001b[0m \u001b[38;5;28mprint\u001b[39m(total, \u001b[38;5;124m\"\u001b[39m\u001b[38;5;124mimages processed.\u001b[39m\u001b[38;5;124m\"\u001b[39m)\n\u001b[0;32m     31\u001b[0m \u001b[38;5;28mprint\u001b[39m(\u001b[38;5;124mf\u001b[39m\u001b[38;5;124m\"\u001b[39m\u001b[38;5;124mPredicted \u001b[39m\u001b[38;5;132;01m{\u001b[39;00mcorrect\u001b[38;5;132;01m}\u001b[39;00m\u001b[38;5;124m out of \u001b[39m\u001b[38;5;132;01m{\u001b[39;00mtotal\u001b[38;5;132;01m}\u001b[39;00m\u001b[38;5;124m images correctly.\u001b[39m\u001b[38;5;124m\"\u001b[39m)\n\u001b[1;32m---> 32\u001b[0m \u001b[38;5;28mprint\u001b[39m(\u001b[38;5;124mf\u001b[39m\u001b[38;5;124m\"\u001b[39m\u001b[38;5;124m✅ Accuracy on test set: \u001b[39m\u001b[38;5;132;01m{\u001b[39;00m(\u001b[43mcorrect\u001b[49m\u001b[38;5;250;43m \u001b[39;49m\u001b[38;5;241;43m/\u001b[39;49m\u001b[38;5;250;43m \u001b[39;49m\u001b[43mtotal\u001b[49m)\u001b[38;5;250m \u001b[39m\u001b[38;5;241m*\u001b[39m\u001b[38;5;250m \u001b[39m\u001b[38;5;241m100\u001b[39m\u001b[38;5;132;01m:\u001b[39;00m\u001b[38;5;124m.2f\u001b[39m\u001b[38;5;132;01m}\u001b[39;00m\u001b[38;5;124m%\u001b[39m\u001b[38;5;124m\"\u001b[39m)\n",
            "\u001b[1;31mZeroDivisionError\u001b[0m: division by zero"
          ]
        }
      ],
      "source": [
        "import os\n",
        "import cv2\n",
        "import numpy as np\n",
        "from tensorflow.keras.models import load_model\n",
        "\n",
        "model = load_model(\"my_deepfake_detector.h5\")\n",
        "img_dir = r\"C:\\Users\\akanksha meshram\\Downloads\\archive (6)\\1000_videos\\test\" # Folder with mixed test images\n",
        "IMG_SIZE = 128\n",
        "\n",
        "correct = 0\n",
        "total = 0\n",
        "\n",
        "for filename in os.listdir(img_dir):\n",
        "    if filename.lower().endswith(('.jpg', '.png', '.jpeg')):\n",
        "        label = 0 if \"real\" in filename.lower() else 1  # adjust logic if needed\n",
        "        img_path = os.path.join(img_dir, filename)\n",
        "        img = cv2.imread(img_path)\n",
        "        img = cv2.resize(img, (IMG_SIZE, IMG_SIZE))\n",
        "        img = cv2.cvtColor(img, cv2.COLOR_BGR2RGB)\n",
        "        img = img / 255.0\n",
        "        img = np.expand_dims(img, axis=0)\n",
        "\n",
        "        pred = model.predict(img)[0][0]\n",
        "        predicted_label = 1 if pred > 0.5 else 0\n",
        "\n",
        "        if predicted_label == label:\n",
        "            correct += 1\n",
        "        total += 1\n",
        "\n",
        "print(total, \"images processed.\")\n",
        "print(f\"Predicted {correct} out of {total} images correctly.\")\n",
        "print(f\"✅ Accuracy on test set: {(correct / total) * 100:.2f}%\")\n"
      ]
    },
    {
      "cell_type": "code",
      "execution_count": 13,
      "id": "43bd2d4d",
      "metadata": {},
      "outputs": [
        {
          "name": "stdout",
          "output_type": "stream",
          "text": [
            "[[0 0]\n",
            " [0 1]]\n",
            "              precision    recall  f1-score   support\n",
            "\n",
            "        Real       0.00      0.00      0.00         0\n",
            "        Fake       1.00      1.00      1.00         1\n",
            "\n",
            "    accuracy                           1.00         1\n",
            "   macro avg       0.50      0.50      0.50         1\n",
            "weighted avg       1.00      1.00      1.00         1\n",
            "\n"
          ]
        },
        {
          "name": "stderr",
          "output_type": "stream",
          "text": [
            "c:\\Users\\akanksha meshram\\anaconda3\\envs\\tf_env\\lib\\site-packages\\sklearn\\metrics\\_classification.py:1565: UndefinedMetricWarning: Precision is ill-defined and being set to 0.0 in labels with no predicted samples. Use `zero_division` parameter to control this behavior.\n",
            "  _warn_prf(average, modifier, f\"{metric.capitalize()} is\", len(result))\n",
            "c:\\Users\\akanksha meshram\\anaconda3\\envs\\tf_env\\lib\\site-packages\\sklearn\\metrics\\_classification.py:1565: UndefinedMetricWarning: Recall is ill-defined and being set to 0.0 in labels with no true samples. Use `zero_division` parameter to control this behavior.\n",
            "  _warn_prf(average, modifier, f\"{metric.capitalize()} is\", len(result))\n",
            "c:\\Users\\akanksha meshram\\anaconda3\\envs\\tf_env\\lib\\site-packages\\sklearn\\metrics\\_classification.py:1565: UndefinedMetricWarning: F-score is ill-defined and being set to 0.0 in labels with no true nor predicted samples. Use `zero_division` parameter to control this behavior.\n",
            "  _warn_prf(average, modifier, f\"{metric.capitalize()} is\", len(result))\n",
            "c:\\Users\\akanksha meshram\\anaconda3\\envs\\tf_env\\lib\\site-packages\\sklearn\\metrics\\_classification.py:1565: UndefinedMetricWarning: Precision is ill-defined and being set to 0.0 in labels with no predicted samples. Use `zero_division` parameter to control this behavior.\n",
            "  _warn_prf(average, modifier, f\"{metric.capitalize()} is\", len(result))\n",
            "c:\\Users\\akanksha meshram\\anaconda3\\envs\\tf_env\\lib\\site-packages\\sklearn\\metrics\\_classification.py:1565: UndefinedMetricWarning: Recall is ill-defined and being set to 0.0 in labels with no true samples. Use `zero_division` parameter to control this behavior.\n",
            "  _warn_prf(average, modifier, f\"{metric.capitalize()} is\", len(result))\n",
            "c:\\Users\\akanksha meshram\\anaconda3\\envs\\tf_env\\lib\\site-packages\\sklearn\\metrics\\_classification.py:1565: UndefinedMetricWarning: F-score is ill-defined and being set to 0.0 in labels with no true nor predicted samples. Use `zero_division` parameter to control this behavior.\n",
            "  _warn_prf(average, modifier, f\"{metric.capitalize()} is\", len(result))\n",
            "c:\\Users\\akanksha meshram\\anaconda3\\envs\\tf_env\\lib\\site-packages\\sklearn\\metrics\\_classification.py:1565: UndefinedMetricWarning: Precision is ill-defined and being set to 0.0 in labels with no predicted samples. Use `zero_division` parameter to control this behavior.\n",
            "  _warn_prf(average, modifier, f\"{metric.capitalize()} is\", len(result))\n",
            "c:\\Users\\akanksha meshram\\anaconda3\\envs\\tf_env\\lib\\site-packages\\sklearn\\metrics\\_classification.py:1565: UndefinedMetricWarning: Recall is ill-defined and being set to 0.0 in labels with no true samples. Use `zero_division` parameter to control this behavior.\n",
            "  _warn_prf(average, modifier, f\"{metric.capitalize()} is\", len(result))\n",
            "c:\\Users\\akanksha meshram\\anaconda3\\envs\\tf_env\\lib\\site-packages\\sklearn\\metrics\\_classification.py:1565: UndefinedMetricWarning: F-score is ill-defined and being set to 0.0 in labels with no true nor predicted samples. Use `zero_division` parameter to control this behavior.\n",
            "  _warn_prf(average, modifier, f\"{metric.capitalize()} is\", len(result))\n"
          ]
        }
      ],
      "source": [
        "from sklearn.metrics import confusion_matrix, classification_report\n",
        "\n",
        "from sklearn.metrics import classification_report, confusion_matrix\n",
        "\n",
        "print(confusion_matrix(y_true, y_pred, labels=[0, 1]))\n",
        "print(classification_report(y_true, y_pred, labels=[0, 1], target_names=['Real', 'Fake']))\n"
      ]
    },
    {
      "cell_type": "code",
      "execution_count": null,
      "id": "3c7313c9",
      "metadata": {},
      "outputs": [],
      "source": []
    }
  ],
  "metadata": {
    "colab": {
      "provenance": []
    },
    "kernelspec": {
      "display_name": "tf_env",
      "language": "python",
      "name": "python3"
    },
    "language_info": {
      "codemirror_mode": {
        "name": "ipython",
        "version": 3
      },
      "file_extension": ".py",
      "mimetype": "text/x-python",
      "name": "python",
      "nbconvert_exporter": "python",
      "pygments_lexer": "ipython3",
      "version": "3.10.16"
    }
  },
  "nbformat": 4,
  "nbformat_minor": 5
}
